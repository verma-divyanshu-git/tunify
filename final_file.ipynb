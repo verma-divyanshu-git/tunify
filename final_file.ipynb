{
 "cells": [
  {
   "cell_type": "code",
   "execution_count": 1,
   "id": "af3f43eb",
   "metadata": {},
   "outputs": [],
   "source": [
    "import spotipy\n",
    "from spotipy.oauth2 import SpotifyClientCredentials\n",
    "import numpy as np\n",
    "from sklearn.metrics.pairwise import cosine_similarity"
   ]
  },
  {
   "cell_type": "code",
   "execution_count": 2,
   "id": "a3501778",
   "metadata": {},
   "outputs": [],
   "source": [
    "# Set up Spotify API client\n",
    "client_credentials_manager = SpotifyClientCredentials(client_id='30c9485c1d6b4f5e9a4a721df2323f88', client_secret='a7bc3d89a71a4c96ad4c67c81e6e5d35')\n",
    "sp = spotipy.Spotify(client_credentials_manager=client_credentials_manager)"
   ]
  },
  {
   "cell_type": "code",
   "execution_count": 3,
   "id": "c36879c8",
   "metadata": {},
   "outputs": [
    {
     "name": "stdout",
     "output_type": "stream",
     "text": [
      "Enter the name of the seed song: inch zora\n"
     ]
    }
   ],
   "source": [
    "# Get user input for seed song\n",
    "seed_song_name = input(\"Enter the name of the seed song: \")\n",
    "\n",
    "# Search for seed song\n",
    "results = sp.search(q=seed_song_name, limit=1)\n",
    "seed_song_uri = results['tracks']['items'][0]['uri']\n",
    "\n",
    "# Get audio features for seed song\n",
    "seed_features = sp.audio_features(seed_song_uri)[0]\n",
    "\n",
    "# Search for similar songs\n",
    "similar_songs = sp.recommendations(seed_tracks=[seed_song_uri], limit=20)['tracks']"
   ]
  },
  {
   "cell_type": "code",
   "execution_count": 4,
   "id": "57698dda",
   "metadata": {},
   "outputs": [],
   "source": [
    "def calculate_similarity(features_1, features_2):\n",
    "    # Extract relevant features\n",
    "    feature_list = ['danceability', 'energy', 'loudness', 'speechiness', 'acousticness',\n",
    "                    'instrumentalness', 'liveness', 'valence', 'tempo']\n",
    "    features_1 = [features_1[feature] for feature in feature_list]\n",
    "    features_2 = [features_2[feature] for feature in feature_list]\n",
    "    # Normalize features\n",
    "    features_1 = np.array(features_1).reshape(1, -1)\n",
    "    features_2 = np.array(features_2).reshape(1, -1)\n",
    "    features_1 = (features_1 - np.mean(features_1)) / np.std(features_1)\n",
    "    features_2 = (features_2 - np.mean(features_2)) / np.std(features_2)\n",
    "    # Calculate cosine similarity\n",
    "    return cosine_similarity(features_1, features_2)[0][0]\n"
   ]
  },
  {
   "cell_type": "code",
   "execution_count": 5,
   "id": "d4e48879",
   "metadata": {},
   "outputs": [],
   "source": [
    "# Calculate similarity scores for each similar song\n",
    "similarity_scores = []\n",
    "for song in similar_songs:\n",
    "    # Get audio features for song\n",
    "    song_features = sp.audio_features(song['uri'])[0]\n",
    "    # Calculate similarity score\n",
    "    similarity_score = calculate_similarity(seed_features, song_features)\n",
    "    similarity_scores.append((song['name'], song['external_urls']['spotify'], similarity_score))"
   ]
  },
  {
   "cell_type": "code",
   "execution_count": 6,
   "id": "a168b73b",
   "metadata": {},
   "outputs": [],
   "source": [
    "# Sort similar songs by similarity score\n",
    "sorted_songs = sorted(similarity_scores, key=lambda x: x[2], reverse=True)"
   ]
  },
  {
   "cell_type": "code",
   "execution_count": 7,
   "id": "e4d73ace",
   "metadata": {},
   "outputs": [
    {
     "name": "stdout",
     "output_type": "stream",
     "text": [
      "Top 5 similar songs to inch zora :\n",
      "\n",
      "1. Black Matte (https://open.spotify.com/track/3HHOY3hOZRJf1ORqNSDS8B) - similarity score: 1.00\n",
      "2. Kamli (https://open.spotify.com/track/15fmoePTSxMrZCskvyXSac) - similarity score: 1.00\n",
      "3. Le Chakk Main Aa Gya (https://open.spotify.com/track/4EdPSOsTEUDplToG2AIfyl) - similarity score: 1.00\n",
      "4. Kali Denali (https://open.spotify.com/track/3ZJBsQMWvesJ6w8UqalKVL) - similarity score: 1.00\n",
      "5. Do Vaari Jatt (https://open.spotify.com/track/68BrFM98WyShOImDZ58sah) - similarity score: 1.00\n"
     ]
    }
   ],
   "source": [
    "# Display top 5 similar songs\n",
    "print(\"Top 5 similar songs to\", seed_song_name, \":\\n\")\n",
    "for i in range(5):\n",
    "    song_name, song_url, similarity_score = sorted_songs[i]\n",
    "    print(f\"{i+1}. {song_name} ({song_url}) - similarity score: {similarity_score:.2f}\")"
   ]
  }
 ],
 "metadata": {
  "kernelspec": {
   "display_name": "Python 3 (ipykernel)",
   "language": "python",
   "name": "python3"
  },
  "language_info": {
   "codemirror_mode": {
    "name": "ipython",
    "version": 3
   },
   "file_extension": ".py",
   "mimetype": "text/x-python",
   "name": "python",
   "nbconvert_exporter": "python",
   "pygments_lexer": "ipython3",
   "version": "3.11.2"
  }
 },
 "nbformat": 4,
 "nbformat_minor": 5
}
